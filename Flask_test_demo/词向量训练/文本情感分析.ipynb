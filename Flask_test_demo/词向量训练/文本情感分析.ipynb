{
 "cells": [
  {
   "cell_type": "code",
   "execution_count": 1,
   "metadata": {},
   "outputs": [],
   "source": [
    "import pandas as pd"
   ]
  },
  {
   "cell_type": "code",
   "execution_count": 2,
   "metadata": {},
   "outputs": [],
   "source": [
    "dfpos=pd.read_excel('pos.xlsx',header=None).astype(str)\n",
    "dfneg=pd.read_excel('neg.xlsx',header=None).astype(str)"
   ]
  },
  {
   "cell_type": "code",
   "execution_count": 3,
   "metadata": {},
   "outputs": [],
   "source": [
    "dfpos['y']=1\n",
    "dfneg['y']=0"
   ]
  },
  {
   "cell_type": "code",
   "execution_count": 4,
   "metadata": {},
   "outputs": [
    {
     "data": {
      "text/html": [
       "<div>\n",
       "<style scoped>\n",
       "    .dataframe tbody tr th:only-of-type {\n",
       "        vertical-align: middle;\n",
       "    }\n",
       "\n",
       "    .dataframe tbody tr th {\n",
       "        vertical-align: top;\n",
       "    }\n",
       "\n",
       "    .dataframe thead th {\n",
       "        text-align: right;\n",
       "    }\n",
       "</style>\n",
       "<table border=\"1\" class=\"dataframe\">\n",
       "  <thead>\n",
       "    <tr style=\"text-align: right;\">\n",
       "      <th></th>\n",
       "      <th>0</th>\n",
       "      <th>y</th>\n",
       "    </tr>\n",
       "  </thead>\n",
       "  <tbody>\n",
       "    <tr>\n",
       "      <th>0</th>\n",
       "      <td>我正在写这本书的心得，勘误和疑点，有兴趣的朋友可以访问我的网站，交流切磋。www.small...</td>\n",
       "      <td>1</td>\n",
       "    </tr>\n",
       "    <tr>\n",
       "      <th>1</th>\n",
       "      <td>本人是一名大一学生，大一的生活一直处于浑浑噩噩的状态，直到我看到了这本书。它对于我的意义远远...</td>\n",
       "      <td>1</td>\n",
       "    </tr>\n",
       "    <tr>\n",
       "      <th>2</th>\n",
       "      <td>当时是因为要写读书报告 所以上网到处抄 就发现这本书感觉以前自己没看过中文版的骆驼祥子就看过...</td>\n",
       "      <td>1</td>\n",
       "    </tr>\n",
       "    <tr>\n",
       "      <th>3</th>\n",
       "      <td>《水知道答案》这本书我一口气买了5本，是因为这本书太好了，因为人体的70%都是水，对着水说爱...</td>\n",
       "      <td>1</td>\n",
       "    </tr>\n",
       "    <tr>\n",
       "      <th>4</th>\n",
       "      <td>忍不住再说几句，这本书大多内容是参考其他书籍的，例如P37，内容是参考《金属切削机床》的，参...</td>\n",
       "      <td>1</td>\n",
       "    </tr>\n",
       "  </tbody>\n",
       "</table>\n",
       "</div>"
      ],
      "text/plain": [
       "                                                   0  y\n",
       "0  我正在写这本书的心得，勘误和疑点，有兴趣的朋友可以访问我的网站，交流切磋。www.small...  1\n",
       "1  本人是一名大一学生，大一的生活一直处于浑浑噩噩的状态，直到我看到了这本书。它对于我的意义远远...  1\n",
       "2  当时是因为要写读书报告 所以上网到处抄 就发现这本书感觉以前自己没看过中文版的骆驼祥子就看过...  1\n",
       "3  《水知道答案》这本书我一口气买了5本，是因为这本书太好了，因为人体的70%都是水，对着水说爱...  1\n",
       "4  忍不住再说几句，这本书大多内容是参考其他书籍的，例如P37，内容是参考《金属切削机床》的，参...  1"
      ]
     },
     "execution_count": 4,
     "metadata": {},
     "output_type": "execute_result"
    }
   ],
   "source": [
    "df0=dfpos.append(dfneg,ignore_index=True)\n",
    "df0.head()"
   ]
  },
  {
   "cell_type": "code",
   "execution_count": 8,
   "metadata": {},
   "outputs": [
    {
     "data": {
      "text/html": [
       "<div>\n",
       "<style scoped>\n",
       "    .dataframe tbody tr th:only-of-type {\n",
       "        vertical-align: middle;\n",
       "    }\n",
       "\n",
       "    .dataframe tbody tr th {\n",
       "        vertical-align: top;\n",
       "    }\n",
       "\n",
       "    .dataframe thead th {\n",
       "        text-align: right;\n",
       "    }\n",
       "</style>\n",
       "<table border=\"1\" class=\"dataframe\">\n",
       "  <thead>\n",
       "    <tr style=\"text-align: right;\">\n",
       "      <th></th>\n",
       "      <th>0</th>\n",
       "      <th>y</th>\n",
       "      <th>cut</th>\n",
       "    </tr>\n",
       "  </thead>\n",
       "  <tbody>\n",
       "    <tr>\n",
       "      <th>0</th>\n",
       "      <td>我正在写这本书的心得，勘误和疑点，有兴趣的朋友可以访问我的网站，交流切磋。www.small...</td>\n",
       "      <td>1</td>\n",
       "      <td>[我, 正在, 写, 这, 本书, 的, 心得, ，, 勘误, 和, 疑点, ，, 有, 兴...</td>\n",
       "    </tr>\n",
       "    <tr>\n",
       "      <th>1</th>\n",
       "      <td>本人是一名大一学生，大一的生活一直处于浑浑噩噩的状态，直到我看到了这本书。它对于我的意义远远...</td>\n",
       "      <td>1</td>\n",
       "      <td>[本人, 是, 一名, 大一, 学生, ，, 大一, 的, 生活, 一直, 处于, 浑浑噩噩...</td>\n",
       "    </tr>\n",
       "    <tr>\n",
       "      <th>2</th>\n",
       "      <td>当时是因为要写读书报告 所以上网到处抄 就发现这本书感觉以前自己没看过中文版的骆驼祥子就看过...</td>\n",
       "      <td>1</td>\n",
       "      <td>[当时, 是因为, 要, 写, 读书, 报告,  , 所以, 上网, 到处, 抄,  , 就...</td>\n",
       "    </tr>\n",
       "    <tr>\n",
       "      <th>3</th>\n",
       "      <td>《水知道答案》这本书我一口气买了5本，是因为这本书太好了，因为人体的70%都是水，对着水说爱...</td>\n",
       "      <td>1</td>\n",
       "      <td>[《, 水, 知道, 答案, 》, 这, 本书, 我, 一口气, 买, 了, 5, 本, ，...</td>\n",
       "    </tr>\n",
       "    <tr>\n",
       "      <th>4</th>\n",
       "      <td>忍不住再说几句，这本书大多内容是参考其他书籍的，例如P37，内容是参考《金属切削机床》的，参...</td>\n",
       "      <td>1</td>\n",
       "      <td>[忍不住, 再说, 几句, ，, 这, 本书, 大多, 内容, 是, 参考, 其他, 书籍,...</td>\n",
       "    </tr>\n",
       "  </tbody>\n",
       "</table>\n",
       "</div>"
      ],
      "text/plain": [
       "                                                   0  y  \\\n",
       "0  我正在写这本书的心得，勘误和疑点，有兴趣的朋友可以访问我的网站，交流切磋。www.small...  1   \n",
       "1  本人是一名大一学生，大一的生活一直处于浑浑噩噩的状态，直到我看到了这本书。它对于我的意义远远...  1   \n",
       "2  当时是因为要写读书报告 所以上网到处抄 就发现这本书感觉以前自己没看过中文版的骆驼祥子就看过...  1   \n",
       "3  《水知道答案》这本书我一口气买了5本，是因为这本书太好了，因为人体的70%都是水，对着水说爱...  1   \n",
       "4  忍不住再说几句，这本书大多内容是参考其他书籍的，例如P37，内容是参考《金属切削机床》的，参...  1   \n",
       "\n",
       "                                                 cut  \n",
       "0  [我, 正在, 写, 这, 本书, 的, 心得, ，, 勘误, 和, 疑点, ，, 有, 兴...  \n",
       "1  [本人, 是, 一名, 大一, 学生, ，, 大一, 的, 生活, 一直, 处于, 浑浑噩噩...  \n",
       "2  [当时, 是因为, 要, 写, 读书, 报告,  , 所以, 上网, 到处, 抄,  , 就...  \n",
       "3  [《, 水, 知道, 答案, 》, 这, 本书, 我, 一口气, 买, 了, 5, 本, ，...  \n",
       "4  [忍不住, 再说, 几句, ，, 这, 本书, 大多, 内容, 是, 参考, 其他, 书籍,...  "
      ]
     },
     "execution_count": 8,
     "metadata": {},
     "output_type": "execute_result"
    }
   ],
   "source": [
    "#分词和预处理，生成list of list 格式\n",
    "import jieba\n",
    "df0['cut']=df0[0].apply(jieba.lcut)#lcut直接生成一个列表，cut是一个生成器\n",
    "df0.head()"
   ]
  },
  {
   "cell_type": "code",
   "execution_count": 9,
   "metadata": {},
   "outputs": [
    {
     "data": {
      "text/plain": [
       "9841     [饭店, 较, 新, ,, 服务, 不错, ,, 旁边, 有, 小, 便利店, ,, 就是,...\n",
       "29576    [外壳, 塑料, 感太强, 了, ！, 一看, 就, 觉得, 是, 低档, 货, ，, 为什...\n",
       "Name: cut, dtype: object"
      ]
     },
     "execution_count": 9,
     "metadata": {},
     "output_type": "execute_result"
    }
   ],
   "source": [
    "#划分训练集\n",
    "from sklearn.model_selection import train_test_split\n",
    "x_train,x_test,y_train,y_test=train_test_split(df0.cut,df0.y,test_size=0.3)\n",
    "x_train[:2]"
   ]
  },
  {
   "cell_type": "code",
   "execution_count": 16,
   "metadata": {},
   "outputs": [
    {
     "data": {
      "text/plain": [
       "(7746890, 11390980)"
      ]
     },
     "execution_count": 16,
     "metadata": {},
     "output_type": "execute_result"
    }
   ],
   "source": [
    "#设置Word2vec模型\n",
    "from gensim.models.word2vec import Word2Vec\n",
    "n_dim=300 #指定向量维度，大样本时300-500\n",
    "w2vmodel=Word2Vec(size=n_dim,min_count=10)\n",
    "w2vmodel.build_vocab(x_train)#生成词表\n",
    "w2vmodel.train(x_train,total_examples=w2vmodel.corpus_count,epochs=10)"
   ]
  },
  {
   "cell_type": "code",
   "execution_count": 70,
   "metadata": {},
   "outputs": [],
   "source": [
    "#保存词向量表\n",
    "w2vmodel.save('词向量表')"
   ]
  },
  {
   "cell_type": "code",
   "execution_count": 17,
   "metadata": {},
   "outputs": [
    {
     "name": "stdout",
     "output_type": "stream",
     "text": [
      "[('不错', 0.660783588886261), ('到位', 0.5683166980743408), ('一般', 0.5273265242576599), ('高', 0.5048474073410034), ('不好', 0.49786806106567383), ('超值', 0.49778375029563904), ('棒', 0.48852667212486267), ('结实', 0.47627925872802734), ('精细', 0.47411999106407166), ('精致', 0.4726954698562622)]\n"
     ]
    }
   ],
   "source": [
    "#情感词向量的相似度\n",
    "print(w2vmodel.wv.most_similar('好'))"
   ]
  },
  {
   "cell_type": "code",
   "execution_count": 18,
   "metadata": {},
   "outputs": [
    {
     "data": {
      "text/html": [
       "<div>\n",
       "<style scoped>\n",
       "    .dataframe tbody tr th:only-of-type {\n",
       "        vertical-align: middle;\n",
       "    }\n",
       "\n",
       "    .dataframe tbody tr th {\n",
       "        vertical-align: top;\n",
       "    }\n",
       "\n",
       "    .dataframe thead th {\n",
       "        text-align: right;\n",
       "    }\n",
       "</style>\n",
       "<table border=\"1\" class=\"dataframe\">\n",
       "  <thead>\n",
       "    <tr style=\"text-align: right;\">\n",
       "      <th></th>\n",
       "      <th>0</th>\n",
       "      <th>1</th>\n",
       "      <th>2</th>\n",
       "      <th>3</th>\n",
       "      <th>4</th>\n",
       "      <th>5</th>\n",
       "      <th>6</th>\n",
       "      <th>7</th>\n",
       "      <th>8</th>\n",
       "      <th>9</th>\n",
       "      <th>...</th>\n",
       "      <th>290</th>\n",
       "      <th>291</th>\n",
       "      <th>292</th>\n",
       "      <th>293</th>\n",
       "      <th>294</th>\n",
       "      <th>295</th>\n",
       "      <th>296</th>\n",
       "      <th>297</th>\n",
       "      <th>298</th>\n",
       "      <th>299</th>\n",
       "    </tr>\n",
       "  </thead>\n",
       "  <tbody>\n",
       "    <tr>\n",
       "      <th>0</th>\n",
       "      <td>-0.123279</td>\n",
       "      <td>0.550725</td>\n",
       "      <td>-0.327099</td>\n",
       "      <td>0.195225</td>\n",
       "      <td>0.775567</td>\n",
       "      <td>0.174797</td>\n",
       "      <td>0.591044</td>\n",
       "      <td>0.204402</td>\n",
       "      <td>0.008549</td>\n",
       "      <td>0.645364</td>\n",
       "      <td>...</td>\n",
       "      <td>-0.358386</td>\n",
       "      <td>0.112183</td>\n",
       "      <td>-0.114630</td>\n",
       "      <td>0.686269</td>\n",
       "      <td>0.388616</td>\n",
       "      <td>0.095491</td>\n",
       "      <td>0.223492</td>\n",
       "      <td>-0.097187</td>\n",
       "      <td>0.203638</td>\n",
       "      <td>-0.191617</td>\n",
       "    </tr>\n",
       "    <tr>\n",
       "      <th>1</th>\n",
       "      <td>0.299407</td>\n",
       "      <td>-0.195545</td>\n",
       "      <td>0.266989</td>\n",
       "      <td>-0.053132</td>\n",
       "      <td>-0.244403</td>\n",
       "      <td>-0.081919</td>\n",
       "      <td>0.105807</td>\n",
       "      <td>0.621117</td>\n",
       "      <td>-0.024017</td>\n",
       "      <td>0.112377</td>\n",
       "      <td>...</td>\n",
       "      <td>-0.442318</td>\n",
       "      <td>-0.467938</td>\n",
       "      <td>0.122630</td>\n",
       "      <td>-0.347677</td>\n",
       "      <td>0.527773</td>\n",
       "      <td>-0.532916</td>\n",
       "      <td>0.082422</td>\n",
       "      <td>-0.010993</td>\n",
       "      <td>-0.167953</td>\n",
       "      <td>-0.082801</td>\n",
       "    </tr>\n",
       "    <tr>\n",
       "      <th>2</th>\n",
       "      <td>-0.865798</td>\n",
       "      <td>1.013868</td>\n",
       "      <td>-0.817705</td>\n",
       "      <td>0.519824</td>\n",
       "      <td>0.005181</td>\n",
       "      <td>-0.310411</td>\n",
       "      <td>-0.598103</td>\n",
       "      <td>-0.776076</td>\n",
       "      <td>0.200714</td>\n",
       "      <td>-0.554518</td>\n",
       "      <td>...</td>\n",
       "      <td>0.653588</td>\n",
       "      <td>0.414204</td>\n",
       "      <td>-0.594175</td>\n",
       "      <td>-0.138933</td>\n",
       "      <td>-0.399374</td>\n",
       "      <td>-0.706079</td>\n",
       "      <td>0.353446</td>\n",
       "      <td>-0.007959</td>\n",
       "      <td>0.739401</td>\n",
       "      <td>-0.808843</td>\n",
       "    </tr>\n",
       "    <tr>\n",
       "      <th>3</th>\n",
       "      <td>-0.573392</td>\n",
       "      <td>1.696653</td>\n",
       "      <td>-1.355022</td>\n",
       "      <td>1.422985</td>\n",
       "      <td>1.242224</td>\n",
       "      <td>-0.818789</td>\n",
       "      <td>-0.813545</td>\n",
       "      <td>1.187337</td>\n",
       "      <td>0.212580</td>\n",
       "      <td>-0.688287</td>\n",
       "      <td>...</td>\n",
       "      <td>0.395331</td>\n",
       "      <td>1.172517</td>\n",
       "      <td>-1.444548</td>\n",
       "      <td>-0.016402</td>\n",
       "      <td>0.275865</td>\n",
       "      <td>1.075084</td>\n",
       "      <td>0.100025</td>\n",
       "      <td>0.301154</td>\n",
       "      <td>0.317638</td>\n",
       "      <td>-0.409668</td>\n",
       "    </tr>\n",
       "    <tr>\n",
       "      <th>4</th>\n",
       "      <td>0.161061</td>\n",
       "      <td>-0.443747</td>\n",
       "      <td>-1.130750</td>\n",
       "      <td>0.338234</td>\n",
       "      <td>-0.534008</td>\n",
       "      <td>1.533800</td>\n",
       "      <td>1.248298</td>\n",
       "      <td>-1.806942</td>\n",
       "      <td>1.767910</td>\n",
       "      <td>0.184903</td>\n",
       "      <td>...</td>\n",
       "      <td>0.460152</td>\n",
       "      <td>-0.285222</td>\n",
       "      <td>0.593896</td>\n",
       "      <td>0.589443</td>\n",
       "      <td>-1.245517</td>\n",
       "      <td>-0.458977</td>\n",
       "      <td>-0.718626</td>\n",
       "      <td>-0.035624</td>\n",
       "      <td>-0.019755</td>\n",
       "      <td>-0.323487</td>\n",
       "    </tr>\n",
       "  </tbody>\n",
       "</table>\n",
       "<p>5 rows × 300 columns</p>\n",
       "</div>"
      ],
      "text/plain": [
       "        0         1         2         3         4         5         6    \\\n",
       "0 -0.123279  0.550725 -0.327099  0.195225  0.775567  0.174797  0.591044   \n",
       "1  0.299407 -0.195545  0.266989 -0.053132 -0.244403 -0.081919  0.105807   \n",
       "2 -0.865798  1.013868 -0.817705  0.519824  0.005181 -0.310411 -0.598103   \n",
       "3 -0.573392  1.696653 -1.355022  1.422985  1.242224 -0.818789 -0.813545   \n",
       "4  0.161061 -0.443747 -1.130750  0.338234 -0.534008  1.533800  1.248298   \n",
       "\n",
       "        7         8         9      ...          290       291       292  \\\n",
       "0  0.204402  0.008549  0.645364    ...    -0.358386  0.112183 -0.114630   \n",
       "1  0.621117 -0.024017  0.112377    ...    -0.442318 -0.467938  0.122630   \n",
       "2 -0.776076  0.200714 -0.554518    ...     0.653588  0.414204 -0.594175   \n",
       "3  1.187337  0.212580 -0.688287    ...     0.395331  1.172517 -1.444548   \n",
       "4 -1.806942  1.767910  0.184903    ...     0.460152 -0.285222  0.593896   \n",
       "\n",
       "        293       294       295       296       297       298       299  \n",
       "0  0.686269  0.388616  0.095491  0.223492 -0.097187  0.203638 -0.191617  \n",
       "1 -0.347677  0.527773 -0.532916  0.082422 -0.010993 -0.167953 -0.082801  \n",
       "2 -0.138933 -0.399374 -0.706079  0.353446 -0.007959  0.739401 -0.808843  \n",
       "3 -0.016402  0.275865  1.075084  0.100025  0.301154  0.317638 -0.409668  \n",
       "4  0.589443 -1.245517 -0.458977 -0.718626 -0.035624 -0.019755 -0.323487  \n",
       "\n",
       "[5 rows x 300 columns]"
      ]
     },
     "execution_count": 18,
     "metadata": {},
     "output_type": "execute_result"
    }
   ],
   "source": [
    "#生成整句向量用于情感分析预测\n",
    "pd.DataFrame([w2vmodel.wv[w] for w in df0.cut[0] if w in w2vmodel.wv]).head()"
   ]
  },
  {
   "cell_type": "code",
   "execution_count": 20,
   "metadata": {},
   "outputs": [],
   "source": [
    "#用各个词向量直接平均的方式生成整句对应的词向量\n",
    "def m_avgver(words,w2vmodel):\n",
    "    return pd.DataFrame([w2vmodel.wv[w] for w in words if w in w2vmodel.wv]).agg('mean')"
   ]
  },
  {
   "cell_type": "code",
   "execution_count": 21,
   "metadata": {},
   "outputs": [],
   "source": [
    "#生成建模用矩阵\n",
    "train_vecs=pd.DataFrame([m_avgver(s,w2vmodel=w2vmodel) for s in x_train])"
   ]
  },
  {
   "cell_type": "code",
   "execution_count": 22,
   "metadata": {},
   "outputs": [
    {
     "data": {
      "text/html": [
       "<div>\n",
       "<style scoped>\n",
       "    .dataframe tbody tr th:only-of-type {\n",
       "        vertical-align: middle;\n",
       "    }\n",
       "\n",
       "    .dataframe tbody tr th {\n",
       "        vertical-align: top;\n",
       "    }\n",
       "\n",
       "    .dataframe thead th {\n",
       "        text-align: right;\n",
       "    }\n",
       "</style>\n",
       "<table border=\"1\" class=\"dataframe\">\n",
       "  <thead>\n",
       "    <tr style=\"text-align: right;\">\n",
       "      <th></th>\n",
       "      <th>0</th>\n",
       "      <th>1</th>\n",
       "      <th>2</th>\n",
       "      <th>3</th>\n",
       "      <th>4</th>\n",
       "      <th>5</th>\n",
       "      <th>6</th>\n",
       "      <th>7</th>\n",
       "      <th>8</th>\n",
       "      <th>9</th>\n",
       "      <th>...</th>\n",
       "      <th>290</th>\n",
       "      <th>291</th>\n",
       "      <th>292</th>\n",
       "      <th>293</th>\n",
       "      <th>294</th>\n",
       "      <th>295</th>\n",
       "      <th>296</th>\n",
       "      <th>297</th>\n",
       "      <th>298</th>\n",
       "      <th>299</th>\n",
       "    </tr>\n",
       "  </thead>\n",
       "  <tbody>\n",
       "    <tr>\n",
       "      <th>0</th>\n",
       "      <td>0.239254</td>\n",
       "      <td>-0.246145</td>\n",
       "      <td>0.174138</td>\n",
       "      <td>0.022176</td>\n",
       "      <td>0.329592</td>\n",
       "      <td>0.042822</td>\n",
       "      <td>0.108811</td>\n",
       "      <td>0.405194</td>\n",
       "      <td>-0.259240</td>\n",
       "      <td>0.314519</td>\n",
       "      <td>...</td>\n",
       "      <td>-0.148522</td>\n",
       "      <td>-0.245870</td>\n",
       "      <td>-0.385326</td>\n",
       "      <td>-0.124189</td>\n",
       "      <td>-0.034168</td>\n",
       "      <td>0.003744</td>\n",
       "      <td>-0.265713</td>\n",
       "      <td>-0.194628</td>\n",
       "      <td>-0.060310</td>\n",
       "      <td>-0.436476</td>\n",
       "    </tr>\n",
       "    <tr>\n",
       "      <th>1</th>\n",
       "      <td>0.074754</td>\n",
       "      <td>-0.027886</td>\n",
       "      <td>-0.309345</td>\n",
       "      <td>0.182924</td>\n",
       "      <td>-0.089056</td>\n",
       "      <td>-0.296285</td>\n",
       "      <td>-0.057525</td>\n",
       "      <td>-0.255792</td>\n",
       "      <td>0.157909</td>\n",
       "      <td>0.136596</td>\n",
       "      <td>...</td>\n",
       "      <td>0.087375</td>\n",
       "      <td>0.231382</td>\n",
       "      <td>-0.212760</td>\n",
       "      <td>0.229921</td>\n",
       "      <td>-0.081740</td>\n",
       "      <td>-0.121142</td>\n",
       "      <td>-0.016581</td>\n",
       "      <td>0.285447</td>\n",
       "      <td>0.035210</td>\n",
       "      <td>-0.072361</td>\n",
       "    </tr>\n",
       "    <tr>\n",
       "      <th>2</th>\n",
       "      <td>-0.045529</td>\n",
       "      <td>0.187166</td>\n",
       "      <td>-0.092056</td>\n",
       "      <td>0.228057</td>\n",
       "      <td>-0.098708</td>\n",
       "      <td>-0.140049</td>\n",
       "      <td>0.096674</td>\n",
       "      <td>-0.180389</td>\n",
       "      <td>0.028818</td>\n",
       "      <td>0.106082</td>\n",
       "      <td>...</td>\n",
       "      <td>-0.075288</td>\n",
       "      <td>0.116206</td>\n",
       "      <td>-0.244435</td>\n",
       "      <td>0.001588</td>\n",
       "      <td>-0.198212</td>\n",
       "      <td>0.235806</td>\n",
       "      <td>0.117957</td>\n",
       "      <td>-0.084153</td>\n",
       "      <td>-0.331562</td>\n",
       "      <td>0.063099</td>\n",
       "    </tr>\n",
       "    <tr>\n",
       "      <th>3</th>\n",
       "      <td>0.298240</td>\n",
       "      <td>-0.144772</td>\n",
       "      <td>0.008159</td>\n",
       "      <td>0.126859</td>\n",
       "      <td>0.319911</td>\n",
       "      <td>-0.063167</td>\n",
       "      <td>-0.065301</td>\n",
       "      <td>0.304772</td>\n",
       "      <td>0.052945</td>\n",
       "      <td>0.629881</td>\n",
       "      <td>...</td>\n",
       "      <td>-0.125099</td>\n",
       "      <td>-0.013086</td>\n",
       "      <td>-0.213420</td>\n",
       "      <td>-0.090232</td>\n",
       "      <td>-0.029668</td>\n",
       "      <td>-0.058560</td>\n",
       "      <td>-0.207980</td>\n",
       "      <td>-0.134022</td>\n",
       "      <td>-0.101217</td>\n",
       "      <td>-0.135591</td>\n",
       "    </tr>\n",
       "    <tr>\n",
       "      <th>4</th>\n",
       "      <td>-0.125161</td>\n",
       "      <td>-0.014110</td>\n",
       "      <td>-0.102478</td>\n",
       "      <td>0.141719</td>\n",
       "      <td>0.083000</td>\n",
       "      <td>0.078981</td>\n",
       "      <td>0.052533</td>\n",
       "      <td>0.129610</td>\n",
       "      <td>0.021243</td>\n",
       "      <td>0.336456</td>\n",
       "      <td>...</td>\n",
       "      <td>-0.201875</td>\n",
       "      <td>-0.047300</td>\n",
       "      <td>-0.145180</td>\n",
       "      <td>-0.209223</td>\n",
       "      <td>-0.252283</td>\n",
       "      <td>0.119605</td>\n",
       "      <td>-0.089432</td>\n",
       "      <td>-0.031213</td>\n",
       "      <td>-0.318643</td>\n",
       "      <td>0.035044</td>\n",
       "    </tr>\n",
       "  </tbody>\n",
       "</table>\n",
       "<p>5 rows × 300 columns</p>\n",
       "</div>"
      ],
      "text/plain": [
       "        0         1         2         3         4         5         6    \\\n",
       "0  0.239254 -0.246145  0.174138  0.022176  0.329592  0.042822  0.108811   \n",
       "1  0.074754 -0.027886 -0.309345  0.182924 -0.089056 -0.296285 -0.057525   \n",
       "2 -0.045529  0.187166 -0.092056  0.228057 -0.098708 -0.140049  0.096674   \n",
       "3  0.298240 -0.144772  0.008159  0.126859  0.319911 -0.063167 -0.065301   \n",
       "4 -0.125161 -0.014110 -0.102478  0.141719  0.083000  0.078981  0.052533   \n",
       "\n",
       "        7         8         9      ...          290       291       292  \\\n",
       "0  0.405194 -0.259240  0.314519    ...    -0.148522 -0.245870 -0.385326   \n",
       "1 -0.255792  0.157909  0.136596    ...     0.087375  0.231382 -0.212760   \n",
       "2 -0.180389  0.028818  0.106082    ...    -0.075288  0.116206 -0.244435   \n",
       "3  0.304772  0.052945  0.629881    ...    -0.125099 -0.013086 -0.213420   \n",
       "4  0.129610  0.021243  0.336456    ...    -0.201875 -0.047300 -0.145180   \n",
       "\n",
       "        293       294       295       296       297       298       299  \n",
       "0 -0.124189 -0.034168  0.003744 -0.265713 -0.194628 -0.060310 -0.436476  \n",
       "1  0.229921 -0.081740 -0.121142 -0.016581  0.285447  0.035210 -0.072361  \n",
       "2  0.001588 -0.198212  0.235806  0.117957 -0.084153 -0.331562  0.063099  \n",
       "3 -0.090232 -0.029668 -0.058560 -0.207980 -0.134022 -0.101217 -0.135591  \n",
       "4 -0.209223 -0.252283  0.119605 -0.089432 -0.031213 -0.318643  0.035044  \n",
       "\n",
       "[5 rows x 300 columns]"
      ]
     },
     "execution_count": 22,
     "metadata": {},
     "output_type": "execute_result"
    }
   ],
   "source": [
    "train_vecs.head()"
   ]
  },
  {
   "cell_type": "code",
   "execution_count": 41,
   "metadata": {},
   "outputs": [],
   "source": [
    "#用svm训练模型\n",
    "from sklearn.svm import SVC\n",
    "clf2=SVC(kernel='rbf',verbose=True)\n"
   ]
  },
  {
   "cell_type": "code",
   "execution_count": 46,
   "metadata": {},
   "outputs": [],
   "source": [
    "#用平均值填充空值\n",
    "mean_value=train_vecsr.mean()\n",
    "train_vecs=train_vecs.fillna(mean_value)#要重新赋值"
   ]
  },
  {
   "cell_type": "code",
   "execution_count": 47,
   "metadata": {
    "collapsed": true
   },
   "outputs": [
    {
     "data": {
      "text/plain": [
       "0      False\n",
       "1      False\n",
       "2      False\n",
       "3      False\n",
       "4      False\n",
       "5      False\n",
       "6      False\n",
       "7      False\n",
       "8      False\n",
       "9      False\n",
       "10     False\n",
       "11     False\n",
       "12     False\n",
       "13     False\n",
       "14     False\n",
       "15     False\n",
       "16     False\n",
       "17     False\n",
       "18     False\n",
       "19     False\n",
       "20     False\n",
       "21     False\n",
       "22     False\n",
       "23     False\n",
       "24     False\n",
       "25     False\n",
       "26     False\n",
       "27     False\n",
       "28     False\n",
       "29     False\n",
       "       ...  \n",
       "270    False\n",
       "271    False\n",
       "272    False\n",
       "273    False\n",
       "274    False\n",
       "275    False\n",
       "276    False\n",
       "277    False\n",
       "278    False\n",
       "279    False\n",
       "280    False\n",
       "281    False\n",
       "282    False\n",
       "283    False\n",
       "284    False\n",
       "285    False\n",
       "286    False\n",
       "287    False\n",
       "288    False\n",
       "289    False\n",
       "290    False\n",
       "291    False\n",
       "292    False\n",
       "293    False\n",
       "294    False\n",
       "295    False\n",
       "296    False\n",
       "297    False\n",
       "298    False\n",
       "299    False\n",
       "Length: 300, dtype: bool"
      ]
     },
     "execution_count": 47,
     "metadata": {},
     "output_type": "execute_result"
    }
   ],
   "source": [
    "train_vecs.isnull().any()"
   ]
  },
  {
   "cell_type": "code",
   "execution_count": 48,
   "metadata": {},
   "outputs": [
    {
     "name": "stdout",
     "output_type": "stream",
     "text": [
      "[LibSVM]"
     ]
    },
    {
     "data": {
      "text/plain": [
       "SVC(C=1.0, cache_size=200, class_weight=None, coef0=0.0,\n",
       "  decision_function_shape='ovr', degree=3, gamma='auto', kernel='rbf',\n",
       "  max_iter=-1, probability=False, random_state=None, shrinking=True,\n",
       "  tol=0.001, verbose=True)"
      ]
     },
     "execution_count": 48,
     "metadata": {},
     "output_type": "execute_result"
    }
   ],
   "source": [
    "clf2.fit(train_vecs,y_train)#得到模型"
   ]
  },
  {
   "cell_type": "code",
   "execution_count": 49,
   "metadata": {},
   "outputs": [
    {
     "data": {
      "text/plain": [
       "0.8011712670980424"
      ]
     },
     "execution_count": 49,
     "metadata": {},
     "output_type": "execute_result"
    }
   ],
   "source": [
    "#训练集得分\n",
    "clf2.score(train_vecs,y_train)"
   ]
  },
  {
   "cell_type": "code",
   "execution_count": 51,
   "metadata": {
    "collapsed": true
   },
   "outputs": [
    {
     "data": {
      "text/plain": [
       "8971        [闹, 中, 有静, ，, 物有所值, 。, 是, 我, 下次, 出差, 的, 首选, 。]\n",
       "9732     [好, ！, ！, 当时, 看到, 有人, 评价, 说, 什么, 骚扰电话, 多, ，, 我...\n",
       "10180    [很, 奇怪, 今晚, 酒店, 的, 房间, 怎么, 老是, 这样, ，, 当然, 都, 是...\n",
       "13867    [618, 买, 的, ，, 我, 一直, 在, 用, 华硕, ，, 外观, 很漂亮, ，,...\n",
       "18008    [大家, 都, 说, 这本, 书写, 了, 很多, 心理, 案例, ,, 但, 我, 觉得,...\n",
       "Name: cut, dtype: object"
      ]
     },
     "execution_count": 51,
     "metadata": {},
     "output_type": "execute_result"
    }
   ],
   "source": [
    "x_test.head()"
   ]
  },
  {
   "cell_type": "code",
   "execution_count": 52,
   "metadata": {},
   "outputs": [
    {
     "data": {
      "text/html": [
       "<div>\n",
       "<style scoped>\n",
       "    .dataframe tbody tr th:only-of-type {\n",
       "        vertical-align: middle;\n",
       "    }\n",
       "\n",
       "    .dataframe tbody tr th {\n",
       "        vertical-align: top;\n",
       "    }\n",
       "\n",
       "    .dataframe thead th {\n",
       "        text-align: right;\n",
       "    }\n",
       "</style>\n",
       "<table border=\"1\" class=\"dataframe\">\n",
       "  <thead>\n",
       "    <tr style=\"text-align: right;\">\n",
       "      <th></th>\n",
       "      <th>0</th>\n",
       "      <th>1</th>\n",
       "      <th>2</th>\n",
       "      <th>3</th>\n",
       "      <th>4</th>\n",
       "      <th>5</th>\n",
       "      <th>6</th>\n",
       "      <th>7</th>\n",
       "      <th>8</th>\n",
       "      <th>9</th>\n",
       "      <th>...</th>\n",
       "      <th>290</th>\n",
       "      <th>291</th>\n",
       "      <th>292</th>\n",
       "      <th>293</th>\n",
       "      <th>294</th>\n",
       "      <th>295</th>\n",
       "      <th>296</th>\n",
       "      <th>297</th>\n",
       "      <th>298</th>\n",
       "      <th>299</th>\n",
       "    </tr>\n",
       "  </thead>\n",
       "  <tbody>\n",
       "    <tr>\n",
       "      <th>0</th>\n",
       "      <td>0.239254</td>\n",
       "      <td>-0.246145</td>\n",
       "      <td>0.174138</td>\n",
       "      <td>0.022176</td>\n",
       "      <td>0.329592</td>\n",
       "      <td>0.042822</td>\n",
       "      <td>0.108811</td>\n",
       "      <td>0.405194</td>\n",
       "      <td>-0.259240</td>\n",
       "      <td>0.314519</td>\n",
       "      <td>...</td>\n",
       "      <td>-0.148522</td>\n",
       "      <td>-0.245870</td>\n",
       "      <td>-0.385326</td>\n",
       "      <td>-0.124189</td>\n",
       "      <td>-0.034168</td>\n",
       "      <td>0.003744</td>\n",
       "      <td>-0.265713</td>\n",
       "      <td>-0.194628</td>\n",
       "      <td>-0.060310</td>\n",
       "      <td>-0.436476</td>\n",
       "    </tr>\n",
       "    <tr>\n",
       "      <th>1</th>\n",
       "      <td>0.074754</td>\n",
       "      <td>-0.027886</td>\n",
       "      <td>-0.309345</td>\n",
       "      <td>0.182924</td>\n",
       "      <td>-0.089056</td>\n",
       "      <td>-0.296285</td>\n",
       "      <td>-0.057525</td>\n",
       "      <td>-0.255792</td>\n",
       "      <td>0.157909</td>\n",
       "      <td>0.136596</td>\n",
       "      <td>...</td>\n",
       "      <td>0.087375</td>\n",
       "      <td>0.231382</td>\n",
       "      <td>-0.212760</td>\n",
       "      <td>0.229921</td>\n",
       "      <td>-0.081740</td>\n",
       "      <td>-0.121142</td>\n",
       "      <td>-0.016581</td>\n",
       "      <td>0.285447</td>\n",
       "      <td>0.035210</td>\n",
       "      <td>-0.072361</td>\n",
       "    </tr>\n",
       "    <tr>\n",
       "      <th>2</th>\n",
       "      <td>-0.045529</td>\n",
       "      <td>0.187166</td>\n",
       "      <td>-0.092056</td>\n",
       "      <td>0.228057</td>\n",
       "      <td>-0.098708</td>\n",
       "      <td>-0.140049</td>\n",
       "      <td>0.096674</td>\n",
       "      <td>-0.180389</td>\n",
       "      <td>0.028818</td>\n",
       "      <td>0.106082</td>\n",
       "      <td>...</td>\n",
       "      <td>-0.075288</td>\n",
       "      <td>0.116206</td>\n",
       "      <td>-0.244435</td>\n",
       "      <td>0.001588</td>\n",
       "      <td>-0.198212</td>\n",
       "      <td>0.235806</td>\n",
       "      <td>0.117957</td>\n",
       "      <td>-0.084153</td>\n",
       "      <td>-0.331562</td>\n",
       "      <td>0.063099</td>\n",
       "    </tr>\n",
       "    <tr>\n",
       "      <th>3</th>\n",
       "      <td>0.298240</td>\n",
       "      <td>-0.144772</td>\n",
       "      <td>0.008159</td>\n",
       "      <td>0.126859</td>\n",
       "      <td>0.319911</td>\n",
       "      <td>-0.063167</td>\n",
       "      <td>-0.065301</td>\n",
       "      <td>0.304772</td>\n",
       "      <td>0.052945</td>\n",
       "      <td>0.629881</td>\n",
       "      <td>...</td>\n",
       "      <td>-0.125099</td>\n",
       "      <td>-0.013086</td>\n",
       "      <td>-0.213420</td>\n",
       "      <td>-0.090232</td>\n",
       "      <td>-0.029668</td>\n",
       "      <td>-0.058560</td>\n",
       "      <td>-0.207980</td>\n",
       "      <td>-0.134022</td>\n",
       "      <td>-0.101217</td>\n",
       "      <td>-0.135591</td>\n",
       "    </tr>\n",
       "    <tr>\n",
       "      <th>4</th>\n",
       "      <td>-0.125161</td>\n",
       "      <td>-0.014110</td>\n",
       "      <td>-0.102478</td>\n",
       "      <td>0.141719</td>\n",
       "      <td>0.083000</td>\n",
       "      <td>0.078981</td>\n",
       "      <td>0.052533</td>\n",
       "      <td>0.129610</td>\n",
       "      <td>0.021243</td>\n",
       "      <td>0.336456</td>\n",
       "      <td>...</td>\n",
       "      <td>-0.201875</td>\n",
       "      <td>-0.047300</td>\n",
       "      <td>-0.145180</td>\n",
       "      <td>-0.209223</td>\n",
       "      <td>-0.252283</td>\n",
       "      <td>0.119605</td>\n",
       "      <td>-0.089432</td>\n",
       "      <td>-0.031213</td>\n",
       "      <td>-0.318643</td>\n",
       "      <td>0.035044</td>\n",
       "    </tr>\n",
       "  </tbody>\n",
       "</table>\n",
       "<p>5 rows × 300 columns</p>\n",
       "</div>"
      ],
      "text/plain": [
       "        0         1         2         3         4         5         6    \\\n",
       "0  0.239254 -0.246145  0.174138  0.022176  0.329592  0.042822  0.108811   \n",
       "1  0.074754 -0.027886 -0.309345  0.182924 -0.089056 -0.296285 -0.057525   \n",
       "2 -0.045529  0.187166 -0.092056  0.228057 -0.098708 -0.140049  0.096674   \n",
       "3  0.298240 -0.144772  0.008159  0.126859  0.319911 -0.063167 -0.065301   \n",
       "4 -0.125161 -0.014110 -0.102478  0.141719  0.083000  0.078981  0.052533   \n",
       "\n",
       "        7         8         9      ...          290       291       292  \\\n",
       "0  0.405194 -0.259240  0.314519    ...    -0.148522 -0.245870 -0.385326   \n",
       "1 -0.255792  0.157909  0.136596    ...     0.087375  0.231382 -0.212760   \n",
       "2 -0.180389  0.028818  0.106082    ...    -0.075288  0.116206 -0.244435   \n",
       "3  0.304772  0.052945  0.629881    ...    -0.125099 -0.013086 -0.213420   \n",
       "4  0.129610  0.021243  0.336456    ...    -0.201875 -0.047300 -0.145180   \n",
       "\n",
       "        293       294       295       296       297       298       299  \n",
       "0 -0.124189 -0.034168  0.003744 -0.265713 -0.194628 -0.060310 -0.436476  \n",
       "1  0.229921 -0.081740 -0.121142 -0.016581  0.285447  0.035210 -0.072361  \n",
       "2  0.001588 -0.198212  0.235806  0.117957 -0.084153 -0.331562  0.063099  \n",
       "3 -0.090232 -0.029668 -0.058560 -0.207980 -0.134022 -0.101217 -0.135591  \n",
       "4 -0.209223 -0.252283  0.119605 -0.089432 -0.031213 -0.318643  0.035044  \n",
       "\n",
       "[5 rows x 300 columns]"
      ]
     },
     "execution_count": 52,
     "metadata": {},
     "output_type": "execute_result"
    }
   ],
   "source": [
    "train_vecs.head()"
   ]
  },
  {
   "cell_type": "code",
   "execution_count": 53,
   "metadata": {},
   "outputs": [
    {
     "data": {
      "text/html": [
       "<div>\n",
       "<style scoped>\n",
       "    .dataframe tbody tr th:only-of-type {\n",
       "        vertical-align: middle;\n",
       "    }\n",
       "\n",
       "    .dataframe tbody tr th {\n",
       "        vertical-align: top;\n",
       "    }\n",
       "\n",
       "    .dataframe thead th {\n",
       "        text-align: right;\n",
       "    }\n",
       "</style>\n",
       "<table border=\"1\" class=\"dataframe\">\n",
       "  <thead>\n",
       "    <tr style=\"text-align: right;\">\n",
       "      <th></th>\n",
       "      <th>0</th>\n",
       "      <th>1</th>\n",
       "      <th>2</th>\n",
       "      <th>3</th>\n",
       "      <th>4</th>\n",
       "      <th>5</th>\n",
       "      <th>6</th>\n",
       "      <th>7</th>\n",
       "      <th>8</th>\n",
       "      <th>9</th>\n",
       "      <th>...</th>\n",
       "      <th>290</th>\n",
       "      <th>291</th>\n",
       "      <th>292</th>\n",
       "      <th>293</th>\n",
       "      <th>294</th>\n",
       "      <th>295</th>\n",
       "      <th>296</th>\n",
       "      <th>297</th>\n",
       "      <th>298</th>\n",
       "      <th>299</th>\n",
       "    </tr>\n",
       "  </thead>\n",
       "  <tbody>\n",
       "    <tr>\n",
       "      <th>0</th>\n",
       "      <td>-0.050758</td>\n",
       "      <td>0.063958</td>\n",
       "      <td>-0.209470</td>\n",
       "      <td>0.284679</td>\n",
       "      <td>0.136936</td>\n",
       "      <td>0.056198</td>\n",
       "      <td>-0.069711</td>\n",
       "      <td>0.231700</td>\n",
       "      <td>0.004564</td>\n",
       "      <td>-0.142025</td>\n",
       "      <td>...</td>\n",
       "      <td>0.157810</td>\n",
       "      <td>-0.063551</td>\n",
       "      <td>-0.273399</td>\n",
       "      <td>0.012510</td>\n",
       "      <td>-0.124803</td>\n",
       "      <td>0.379210</td>\n",
       "      <td>-0.118140</td>\n",
       "      <td>-0.050788</td>\n",
       "      <td>-0.269055</td>\n",
       "      <td>-0.115950</td>\n",
       "    </tr>\n",
       "    <tr>\n",
       "      <th>1</th>\n",
       "      <td>-0.306741</td>\n",
       "      <td>0.349320</td>\n",
       "      <td>-0.408788</td>\n",
       "      <td>0.701200</td>\n",
       "      <td>0.262361</td>\n",
       "      <td>0.189379</td>\n",
       "      <td>0.280537</td>\n",
       "      <td>0.229430</td>\n",
       "      <td>0.374901</td>\n",
       "      <td>0.156143</td>\n",
       "      <td>...</td>\n",
       "      <td>0.158102</td>\n",
       "      <td>-0.124780</td>\n",
       "      <td>-0.199236</td>\n",
       "      <td>0.037988</td>\n",
       "      <td>-0.201493</td>\n",
       "      <td>0.133209</td>\n",
       "      <td>0.303661</td>\n",
       "      <td>-0.159671</td>\n",
       "      <td>-0.225235</td>\n",
       "      <td>-0.037597</td>\n",
       "    </tr>\n",
       "    <tr>\n",
       "      <th>2</th>\n",
       "      <td>-0.093095</td>\n",
       "      <td>0.094549</td>\n",
       "      <td>0.154034</td>\n",
       "      <td>0.536451</td>\n",
       "      <td>0.064262</td>\n",
       "      <td>0.052976</td>\n",
       "      <td>0.209197</td>\n",
       "      <td>0.134412</td>\n",
       "      <td>-0.071033</td>\n",
       "      <td>0.331020</td>\n",
       "      <td>...</td>\n",
       "      <td>-0.088963</td>\n",
       "      <td>-0.180454</td>\n",
       "      <td>-0.248497</td>\n",
       "      <td>-0.007230</td>\n",
       "      <td>-0.127243</td>\n",
       "      <td>0.092243</td>\n",
       "      <td>-0.115837</td>\n",
       "      <td>0.054962</td>\n",
       "      <td>-0.130880</td>\n",
       "      <td>0.356845</td>\n",
       "    </tr>\n",
       "    <tr>\n",
       "      <th>3</th>\n",
       "      <td>-0.277234</td>\n",
       "      <td>0.314880</td>\n",
       "      <td>-0.411587</td>\n",
       "      <td>0.068936</td>\n",
       "      <td>-0.068597</td>\n",
       "      <td>-0.027670</td>\n",
       "      <td>0.167180</td>\n",
       "      <td>-0.314323</td>\n",
       "      <td>-0.054665</td>\n",
       "      <td>0.113709</td>\n",
       "      <td>...</td>\n",
       "      <td>0.199213</td>\n",
       "      <td>0.160664</td>\n",
       "      <td>-0.253752</td>\n",
       "      <td>0.138159</td>\n",
       "      <td>-0.199342</td>\n",
       "      <td>0.085114</td>\n",
       "      <td>0.156495</td>\n",
       "      <td>0.158748</td>\n",
       "      <td>-0.086540</td>\n",
       "      <td>-0.259028</td>\n",
       "    </tr>\n",
       "    <tr>\n",
       "      <th>4</th>\n",
       "      <td>-0.189005</td>\n",
       "      <td>0.249081</td>\n",
       "      <td>-0.412739</td>\n",
       "      <td>0.251353</td>\n",
       "      <td>0.062515</td>\n",
       "      <td>0.072975</td>\n",
       "      <td>-0.011711</td>\n",
       "      <td>0.068316</td>\n",
       "      <td>0.167628</td>\n",
       "      <td>0.052788</td>\n",
       "      <td>...</td>\n",
       "      <td>-0.086598</td>\n",
       "      <td>0.005204</td>\n",
       "      <td>-0.024668</td>\n",
       "      <td>-0.026728</td>\n",
       "      <td>-0.094611</td>\n",
       "      <td>0.103948</td>\n",
       "      <td>0.165900</td>\n",
       "      <td>0.015842</td>\n",
       "      <td>-0.093451</td>\n",
       "      <td>-0.124027</td>\n",
       "    </tr>\n",
       "  </tbody>\n",
       "</table>\n",
       "<p>5 rows × 300 columns</p>\n",
       "</div>"
      ],
      "text/plain": [
       "        0         1         2         3         4         5         6    \\\n",
       "0 -0.050758  0.063958 -0.209470  0.284679  0.136936  0.056198 -0.069711   \n",
       "1 -0.306741  0.349320 -0.408788  0.701200  0.262361  0.189379  0.280537   \n",
       "2 -0.093095  0.094549  0.154034  0.536451  0.064262  0.052976  0.209197   \n",
       "3 -0.277234  0.314880 -0.411587  0.068936 -0.068597 -0.027670  0.167180   \n",
       "4 -0.189005  0.249081 -0.412739  0.251353  0.062515  0.072975 -0.011711   \n",
       "\n",
       "        7         8         9      ...          290       291       292  \\\n",
       "0  0.231700  0.004564 -0.142025    ...     0.157810 -0.063551 -0.273399   \n",
       "1  0.229430  0.374901  0.156143    ...     0.158102 -0.124780 -0.199236   \n",
       "2  0.134412 -0.071033  0.331020    ...    -0.088963 -0.180454 -0.248497   \n",
       "3 -0.314323 -0.054665  0.113709    ...     0.199213  0.160664 -0.253752   \n",
       "4  0.068316  0.167628  0.052788    ...    -0.086598  0.005204 -0.024668   \n",
       "\n",
       "        293       294       295       296       297       298       299  \n",
       "0  0.012510 -0.124803  0.379210 -0.118140 -0.050788 -0.269055 -0.115950  \n",
       "1  0.037988 -0.201493  0.133209  0.303661 -0.159671 -0.225235 -0.037597  \n",
       "2 -0.007230 -0.127243  0.092243 -0.115837  0.054962 -0.130880  0.356845  \n",
       "3  0.138159 -0.199342  0.085114  0.156495  0.158748 -0.086540 -0.259028  \n",
       "4 -0.026728 -0.094611  0.103948  0.165900  0.015842 -0.093451 -0.124027  \n",
       "\n",
       "[5 rows x 300 columns]"
      ]
     },
     "execution_count": 53,
     "metadata": {},
     "output_type": "execute_result"
    }
   ],
   "source": [
    "#将test也转化为词向量\n",
    "#生成测试用矩阵\n",
    "test_vecs=pd.DataFrame([m_avgver(s,w2vmodel=w2vmodel) for s in x_test])\n",
    "test_vecs.head()"
   ]
  },
  {
   "cell_type": "code",
   "execution_count": 58,
   "metadata": {
    "collapsed": true
   },
   "outputs": [
    {
     "data": {
      "text/plain": [
       "0     -0.073251\n",
       "1      0.149241\n",
       "2     -0.133550\n",
       "3      0.209817\n",
       "4      0.028127\n",
       "5     -0.037969\n",
       "6      0.099093\n",
       "7      0.039667\n",
       "8      0.038230\n",
       "9      0.124964\n",
       "10     0.017081\n",
       "11     0.006574\n",
       "12    -0.001606\n",
       "13    -0.243939\n",
       "14    -0.078471\n",
       "15     0.069169\n",
       "16    -0.053875\n",
       "17    -0.049446\n",
       "18    -0.129564\n",
       "19    -0.029975\n",
       "20     0.026049\n",
       "21     0.073416\n",
       "22    -0.086310\n",
       "23     0.056520\n",
       "24     0.194213\n",
       "25     0.069173\n",
       "26    -0.163432\n",
       "27    -0.027776\n",
       "28     0.203757\n",
       "29     0.066344\n",
       "         ...   \n",
       "270    0.124694\n",
       "271    0.103033\n",
       "272    0.098595\n",
       "273    0.143533\n",
       "274    0.097852\n",
       "275   -0.126455\n",
       "276    0.056504\n",
       "277   -0.173312\n",
       "278   -0.150703\n",
       "279   -0.067117\n",
       "280    0.060163\n",
       "281    0.103603\n",
       "282    0.257647\n",
       "283    0.166494\n",
       "284   -0.074227\n",
       "285   -0.044610\n",
       "286    0.011797\n",
       "287    0.090559\n",
       "288   -0.074609\n",
       "289    0.041325\n",
       "290   -0.027447\n",
       "291   -0.013026\n",
       "292   -0.221128\n",
       "293    0.067576\n",
       "294   -0.112785\n",
       "295    0.108210\n",
       "296    0.009065\n",
       "297    0.035444\n",
       "298   -0.162812\n",
       "299   -0.109596\n",
       "Length: 300, dtype: float64"
      ]
     },
     "execution_count": 58,
     "metadata": {},
     "output_type": "execute_result"
    }
   ],
   "source": [
    "#处理空值，以平均值填入\n",
    "test_mean=test_vecs.mean()\n",
    "test_mean"
   ]
  },
  {
   "cell_type": "code",
   "execution_count": 59,
   "metadata": {
    "collapsed": true
   },
   "outputs": [
    {
     "data": {
      "text/plain": [
       "0      True\n",
       "1      True\n",
       "2      True\n",
       "3      True\n",
       "4      True\n",
       "5      True\n",
       "6      True\n",
       "7      True\n",
       "8      True\n",
       "9      True\n",
       "10     True\n",
       "11     True\n",
       "12     True\n",
       "13     True\n",
       "14     True\n",
       "15     True\n",
       "16     True\n",
       "17     True\n",
       "18     True\n",
       "19     True\n",
       "20     True\n",
       "21     True\n",
       "22     True\n",
       "23     True\n",
       "24     True\n",
       "25     True\n",
       "26     True\n",
       "27     True\n",
       "28     True\n",
       "29     True\n",
       "       ... \n",
       "270    True\n",
       "271    True\n",
       "272    True\n",
       "273    True\n",
       "274    True\n",
       "275    True\n",
       "276    True\n",
       "277    True\n",
       "278    True\n",
       "279    True\n",
       "280    True\n",
       "281    True\n",
       "282    True\n",
       "283    True\n",
       "284    True\n",
       "285    True\n",
       "286    True\n",
       "287    True\n",
       "288    True\n",
       "289    True\n",
       "290    True\n",
       "291    True\n",
       "292    True\n",
       "293    True\n",
       "294    True\n",
       "295    True\n",
       "296    True\n",
       "297    True\n",
       "298    True\n",
       "299    True\n",
       "Length: 300, dtype: bool"
      ]
     },
     "execution_count": 59,
     "metadata": {},
     "output_type": "execute_result"
    }
   ],
   "source": [
    "test_vecs.isnull().any()"
   ]
  },
  {
   "cell_type": "code",
   "execution_count": 60,
   "metadata": {},
   "outputs": [],
   "source": [
    "test_vecs=test_vecs.fillna(test_mean)"
   ]
  },
  {
   "cell_type": "code",
   "execution_count": 61,
   "metadata": {},
   "outputs": [
    {
     "data": {
      "text/plain": [
       "0.7953372826294668"
      ]
     },
     "execution_count": 61,
     "metadata": {},
     "output_type": "execute_result"
    }
   ],
   "source": [
    "y_predict=clf2.predict(test_vecs)\n",
    "score=clf2.score(test_vecs,y_test)\n",
    "score"
   ]
  },
  {
   "cell_type": "code",
   "execution_count": 63,
   "metadata": {},
   "outputs": [
    {
     "data": {
      "text/plain": [
       "['SVM模型']"
      ]
     },
     "execution_count": 63,
     "metadata": {},
     "output_type": "execute_result"
    }
   ],
   "source": [
    "#保存模型\n",
    "from sklearn.externals import joblib\n",
    "joblib.dump(clf2,'SVM模型')"
   ]
  },
  {
   "cell_type": "code",
   "execution_count": 64,
   "metadata": {},
   "outputs": [
    {
     "name": "stdout",
     "output_type": "stream",
     "text": [
      "好的，杠精！\n",
      "正向\n"
     ]
    }
   ],
   "source": [
    "#模型预测\n",
    "import jieba\n",
    "def predict(string,model):\n",
    "    words=jieba.cut(string)\n",
    "    words_vecs=pd.DataFrame(m_avgver(words,w2vmodel)).T\n",
    "    result=model.predict(words_vecs)\n",
    "    print(string)\n",
    "    if int(result[0])==1:\n",
    "        print('正向')\n",
    "    else:\n",
    "        print('负向')\n",
    "comment='好的，杠精！'\n",
    "predict(comment,clf2)"
   ]
  },
  {
   "cell_type": "code",
   "execution_count": 68,
   "metadata": {},
   "outputs": [
    {
     "name": "stdout",
     "output_type": "stream",
     "text": [
      "好的\n",
      "正向\n"
     ]
    }
   ],
   "source": [
    "comment='好的'\n",
    "predict(comment,clf2)"
   ]
  },
  {
   "cell_type": "code",
   "execution_count": 73,
   "metadata": {},
   "outputs": [
    {
     "data": {
      "text/plain": [
       "(24418, 300)"
      ]
     },
     "execution_count": 73,
     "metadata": {},
     "output_type": "execute_result"
    }
   ],
   "source": [
    "train_vecs.shape"
   ]
  },
  {
   "cell_type": "code",
   "execution_count": 74,
   "metadata": {},
   "outputs": [
    {
     "data": {
      "text/plain": [
       "(24418,)"
      ]
     },
     "execution_count": 74,
     "metadata": {},
     "output_type": "execute_result"
    }
   ],
   "source": [
    "y_train.shape"
   ]
  },
  {
   "cell_type": "code",
   "execution_count": 75,
   "metadata": {},
   "outputs": [
    {
     "data": {
      "text/plain": [
       "DecisionTreeClassifier(class_weight=None, criterion='gini', max_depth=None,\n",
       "            max_features=None, max_leaf_nodes=None,\n",
       "            min_impurity_decrease=0.0, min_impurity_split=None,\n",
       "            min_samples_leaf=1, min_samples_split=2,\n",
       "            min_weight_fraction_leaf=0.0, presort=False, random_state=None,\n",
       "            splitter='best')"
      ]
     },
     "execution_count": 75,
     "metadata": {},
     "output_type": "execute_result"
    }
   ],
   "source": [
    "#使用决策树模型\n",
    "from sklearn.tree import DecisionTreeClassifier\n",
    "dtree=DecisionTreeClassifier()\n",
    "dtree.fit(train_vecs,y_train)\n"
   ]
  },
  {
   "cell_type": "code",
   "execution_count": 76,
   "metadata": {},
   "outputs": [
    {
     "data": {
      "text/plain": [
       "0.9977475632729953"
      ]
     },
     "execution_count": 76,
     "metadata": {},
     "output_type": "execute_result"
    }
   ],
   "source": [
    "dtree.score(train_vecs,y_train)"
   ]
  },
  {
   "cell_type": "code",
   "execution_count": 77,
   "metadata": {},
   "outputs": [
    {
     "data": {
      "text/plain": [
       "0.9056946302312249"
      ]
     },
     "execution_count": 77,
     "metadata": {},
     "output_type": "execute_result"
    }
   ],
   "source": [
    "#对测试集评分\n",
    "dtree.score(test_vecs,y_test)"
   ]
  },
  {
   "cell_type": "code",
   "execution_count": null,
   "metadata": {},
   "outputs": [],
   "source": [
    "#使用网格搜索来调参决策树\n"
   ]
  },
  {
   "cell_type": "code",
   "execution_count": 78,
   "metadata": {},
   "outputs": [
    {
     "data": {
      "text/plain": [
       "RandomForestClassifier(bootstrap=True, class_weight=None, criterion='gini',\n",
       "            max_depth=None, max_features='auto', max_leaf_nodes=None,\n",
       "            min_impurity_decrease=0.0, min_impurity_split=None,\n",
       "            min_samples_leaf=1, min_samples_split=2,\n",
       "            min_weight_fraction_leaf=0.0, n_estimators=10, n_jobs=1,\n",
       "            oob_score=False, random_state=None, verbose=0,\n",
       "            warm_start=False)"
      ]
     },
     "execution_count": 78,
     "metadata": {},
     "output_type": "execute_result"
    }
   ],
   "source": [
    "#使用随机森林模型\n",
    "from sklearn.ensemble import RandomForestClassifier\n",
    "random_tree=RandomForestClassifier()\n",
    "random_tree.fit(train_vecs,y_train)"
   ]
  },
  {
   "cell_type": "code",
   "execution_count": 79,
   "metadata": {},
   "outputs": [
    {
     "data": {
      "text/plain": [
       "0.9945122450651159"
      ]
     },
     "execution_count": 79,
     "metadata": {},
     "output_type": "execute_result"
    }
   ],
   "source": [
    "random_tree.score(train_vecs,y_train)"
   ]
  },
  {
   "cell_type": "code",
   "execution_count": 80,
   "metadata": {},
   "outputs": [
    {
     "data": {
      "text/plain": [
       "0.9206955857060959"
      ]
     },
     "execution_count": 80,
     "metadata": {},
     "output_type": "execute_result"
    }
   ],
   "source": [
    "random_tree.score(test_vecs,y_test)"
   ]
  },
  {
   "cell_type": "code",
   "execution_count": 89,
   "metadata": {},
   "outputs": [],
   "source": [
    "from sklearn.cross_validation import cross_val_score"
   ]
  },
  {
   "cell_type": "code",
   "execution_count": 90,
   "metadata": {},
   "outputs": [],
   "source": [
    "#对随机森林模型调参，增加模型泛化能力\n",
    "#对n_estimators即树的数量，\n",
    "scores=[]\n",
    "for e in range(1,101,10):#每10步建立一个模型\n",
    "    random_tree2=RandomForestClassifier(n_estimators=e,random_state=90)\n",
    "    random_tree2.fit(train_vecs,y_train)\n",
    "    e_score=cross_val_score(random_tree2,train_vecs,y_train,cv=10).mean()\n",
    "    scores.append(e_score)"
   ]
  },
  {
   "cell_type": "code",
   "execution_count": 93,
   "metadata": {},
   "outputs": [
    {
     "data": {
      "text/plain": [
       "0.9261604161235459"
      ]
     },
     "execution_count": 93,
     "metadata": {},
     "output_type": "execute_result"
    }
   ],
   "source": [
    "#最大得分\n",
    "max_score=max(scores)\n",
    "max_score"
   ]
  },
  {
   "cell_type": "code",
   "execution_count": 101,
   "metadata": {},
   "outputs": [],
   "source": [
    "#绘制学习曲线\n",
    "import numpy as np\n",
    "import matplotlib.pyplot as plt"
   ]
  },
  {
   "cell_type": "code",
   "execution_count": 102,
   "metadata": {},
   "outputs": [
    {
     "data": {
      "image/png": "[encoded data removed]",
      "text/plain": [
       "<Figure size 432x288 with 1 Axes>"
      ]
     },
     "metadata": {},
     "output_type": "display_data"
    }
   ],
   "source": [
    "x=np.arange(1,101,10)\n",
    "plt.subplot(111)#产生1行1列的1个画布\n",
    "plt.plot(x,scores,'r-')\n",
    "plt.show()"
   ]
  },
  {
   "cell_type": "code",
   "execution_count": 103,
   "metadata": {},
   "outputs": [],
   "source": [
    "#最大得分落在20-40的树之间\n",
    "scores2=[]\n",
    "for e in range(37,47):\n",
    "    random_tree3=RandomForestClassifier(n_estimators=e,random_state=90)\n",
    "    random_tree3.fit(train_vecs,y_train)\n",
    "    e_score=cross_val_score(random_tree3,train_vecs,y_train,cv=10).mean()\n",
    "    scores2.append(e_score)"
   ]
  },
  {
   "cell_type": "code",
   "execution_count": 104,
   "metadata": {},
   "outputs": [
    {
     "data": {
      "image/png": "[encoded data removed]",
      "text/plain": [
       "<Figure size 432x288 with 1 Axes>"
      ]
     },
     "metadata": {},
     "output_type": "display_data"
    }
   ],
   "source": [
    "x=np.arange(37,47)\n",
    "plt.subplot(111)#产生1行1列的1个画布\n",
    "plt.plot(x,scores2,'r-')\n",
    "plt.show()"
   ]
  },
  {
   "cell_type": "code",
   "execution_count": 107,
   "metadata": {},
   "outputs": [
    {
     "data": {
      "text/plain": [
       "0.9976656564829224"
      ]
     },
     "execution_count": 107,
     "metadata": {},
     "output_type": "execute_result"
    }
   ],
   "source": [
    "#即当树在41颗的时候准确率最好\n",
    "random_tree41=RandomForestClassifier(n_estimators=41)\n",
    "random_tree41.fit(train_vecs,y_train)\n",
    "random_tree41.score(train_vecs,y_train)"
   ]
  },
  {
   "cell_type": "code",
   "execution_count": 109,
   "metadata": {},
   "outputs": [
    {
     "data": {
      "text/plain": [
       "0.9333078540034397"
      ]
     },
     "execution_count": 109,
     "metadata": {},
     "output_type": "execute_result"
    }
   ],
   "source": [
    "random_tree41.score(test_vecs,y_test)\n",
    "#通过调参，成功使得准确率提高了一个点"
   ]
  },
  {
   "cell_type": "code",
   "execution_count": 110,
   "metadata": {},
   "outputs": [
    {
     "data": {
      "text/plain": [
       "['随机森林模型准确率93%']"
      ]
     },
     "execution_count": 110,
     "metadata": {},
     "output_type": "execute_result"
    }
   ],
   "source": [
    "#保存随机森林模型\n",
    "joblib.dump(random_tree41,'随机森林模型准确率93%')"
   ]
  },
  {
   "cell_type": "code",
   "execution_count": 81,
   "metadata": {},
   "outputs": [
    {
     "data": {
      "text/plain": [
       "KNeighborsClassifier(algorithm='auto', leaf_size=30, metric='minkowski',\n",
       "           metric_params=None, n_jobs=1, n_neighbors=5, p=2,\n",
       "           weights='uniform')"
      ]
     },
     "execution_count": 81,
     "metadata": {},
     "output_type": "execute_result"
    }
   ],
   "source": [
    "#使用K近邻模型\n",
    "from sklearn.neighbors import KNeighborsClassifier\n",
    "knn=KNeighborsClassifier()\n",
    "knn.fit(train_vecs,y_train)"
   ]
  },
  {
   "cell_type": "code",
   "execution_count": 82,
   "metadata": {},
   "outputs": [
    {
     "data": {
      "text/plain": [
       "0.8691129494635105"
      ]
     },
     "execution_count": 82,
     "metadata": {},
     "output_type": "execute_result"
    }
   ],
   "source": [
    "knn.score(train_vecs,y_train)"
   ]
  },
  {
   "cell_type": "code",
   "execution_count": 83,
   "metadata": {},
   "outputs": [
    {
     "data": {
      "text/plain": [
       "0.7964838524746799"
      ]
     },
     "execution_count": 83,
     "metadata": {},
     "output_type": "execute_result"
    }
   ],
   "source": [
    "knn.score(test_vecs,y_test)"
   ]
  },
  {
   "cell_type": "code",
   "execution_count": 84,
   "metadata": {},
   "outputs": [],
   "source": [
    "#使用朴素贝叶斯"
   ]
  },
  {
   "cell_type": "code",
   "execution_count": 85,
   "metadata": {},
   "outputs": [
    {
     "data": {
      "text/plain": [
       "GaussianNB(priors=None)"
      ]
     },
     "execution_count": 85,
     "metadata": {},
     "output_type": "execute_result"
    }
   ],
   "source": [
    "from sklearn.naive_bayes import GaussianNB\n",
    "bys=GaussianNB()\n",
    "bys.fit(train_vecs,y_train)"
   ]
  },
  {
   "cell_type": "code",
   "execution_count": 86,
   "metadata": {},
   "outputs": [
    {
     "data": {
      "text/plain": [
       "0.7461708575640921"
      ]
     },
     "execution_count": 86,
     "metadata": {},
     "output_type": "execute_result"
    }
   ],
   "source": [
    "bys.score(train_vecs,y_train)"
   ]
  },
  {
   "cell_type": "code",
   "execution_count": 87,
   "metadata": {},
   "outputs": [
    {
     "data": {
      "text/plain": [
       "0.7466080642079114"
      ]
     },
     "execution_count": 87,
     "metadata": {},
     "output_type": "execute_result"
    }
   ],
   "source": [
    "bys.score(test_vecs,y_test)"
   ]
  }
 ],
 "metadata": {
  "kernelspec": {
   "display_name": "Python 3",
   "language": "python",
   "name": "python3"
  },
  "language_info": {
   "codemirror_mode": {
    "name": "ipython",
    "version": 3
   },
   "file_extension": ".py",
   "mimetype": "text/x-python",
   "name": "python",
   "nbconvert_exporter": "python",
   "pygments_lexer": "ipython3",
   "version": "3.6.5"
  }
 },
 "nbformat": 4,
 "nbformat_minor": 2
}
